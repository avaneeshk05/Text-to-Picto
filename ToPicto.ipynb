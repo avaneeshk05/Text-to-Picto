{
  "nbformat": 4,
  "nbformat_minor": 0,
  "metadata": {
    "colab": {
      "provenance": []
    },
    "kernelspec": {
      "name": "python3",
      "display_name": "Python 3"
    },
    "language_info": {
      "name": "python"
    }
  },
  "cells": [
    {
      "cell_type": "code",
      "execution_count": null,
      "metadata": {
        "id": "_MFtxv784wy6"
      },
      "outputs": [],
      "source": [
        "from transformers import AutoTokenizer, T5ForConditionalGeneration, TrainingArguments, Trainer\n",
        "import json\n",
        "import pandas as pd\n",
        "import torch\n",
        "\n",
        "data_file = \"/content/train (2).json\"\n",
        "\n",
        "model_name = \"google-t5/t5-base\"\n",
        "\n",
        "def load_data_from_json(file_path):\n",
        "    with open(file_path, 'r', encoding='utf-8') as f:\n",
        "        data = json.load(f)\n",
        "    return pd.DataFrame(data)\n",
        "\n",
        "def preprocess_data(data_file):\n",
        "\n",
        "    data = []\n",
        "\n",
        "    data_df = load_data_from_json(data_file)\n",
        "    source_texts = [pair for pair in data_df['src']]\n",
        "    target_texts = [pair for pair in data_df['tgt']]\n",
        "\n",
        "    tokenizer = AutoTokenizer.from_pretrained(model_name)\n",
        "\n",
        "    source_encodings = tokenizer(source_texts, padding=True, truncation=True, return_tensors=\"pt\", max_length=256, add_special_tokens=True)\n",
        "    target_encodings = tokenizer(target_texts, padding=True, truncation=True, return_tensors=\"pt\", max_length=256, add_special_tokens=True)\n",
        "\n",
        "    for i in range(len(source_texts)):\n",
        "        example = {\n",
        "            \"input_ids\": source_encodings['input_ids'][i],\n",
        "            \"attention_mask\": source_encodings['attention_mask'][i],\n",
        "            \"labels\": target_encodings['input_ids'][i],\n",
        "        }\n",
        "        data.append(example)\n",
        "\n",
        "    return data\n",
        "\n",
        "train_data = preprocess_data(data_file)\n",
        "\n",
        "training_args = TrainingArguments(\n",
        "    output_dir=\"./output\",\n",
        "    num_train_epochs=5,\n",
        "    per_device_train_batch_size=16,\n",
        "    save_steps=1000,\n",
        ")\n",
        "\n",
        "model = T5ForConditionalGeneration.from_pretrained(model_name)\n",
        "\n",
        "trainer = Trainer(\n",
        "    model=model,\n",
        "    args=training_args,\n",
        "    train_dataset=train_data,\n",
        ")\n",
        "\n",
        "trainer.train()\n",
        "\n",
        "print(\"Training completed! You can now use the fine-tuned model for generation.\")"
      ]
    },
    {
      "cell_type": "code",
      "source": [
        "output_model_dir = \"./fine_tuned_model\"\n",
        "\n",
        "trainer.save_model(output_model_dir)\n",
        "\n",
        "print(\"Fine-tuned model saved successfully!\")"
      ],
      "metadata": {
        "id": "hKeuKo8Z7X3i"
      },
      "execution_count": null,
      "outputs": []
    },
    {
      "cell_type": "code",
      "source": [
        "import json\n",
        "from sklearn.metrics import accuracy_score, precision_recall_fscore_support\n",
        "from transformers import T5ForConditionalGeneration, AutoTokenizer\n",
        "\n",
        "test_data_file = \"/content/valid (1).json\"\n",
        "\n",
        "def load_testing_data_from_json(file_path):\n",
        "    with open(file_path, 'r', encoding='utf-8') as f:\n",
        "        data = json.load(f)\n",
        "    return data\n",
        "\n",
        "model_name = \"google-t5/t5-base\"\n",
        "model = T5ForConditionalGeneration.from_pretrained(\"/content/fine_tuned_model\")\n",
        "\n",
        "tokenizer = AutoTokenizer.from_pretrained(model_name)\n",
        "\n",
        "def preprocess_testing_data(data):\n",
        "    inputs = [example[\"src\"] for example in data]\n",
        "    targets = [example[\"tgt\"] for example in data]\n",
        "    return inputs, targets\n",
        "\n",
        "test_data = load_testing_data_from_json(test_data_file)\n",
        "\n",
        "inputs, targets = preprocess_testing_data(test_data)\n",
        "\n",
        "predictions = []\n",
        "for input_text in inputs:\n",
        "    input_ids = tokenizer.encode(input_text, return_tensors=\"pt\", max_length=256, truncation=True)\n",
        "    outputs = model.generate(input_ids, max_length=256, num_beams=4, early_stopping=True)\n",
        "    predicted_text = tokenizer.decode(outputs[0], skip_special_tokens=True)\n",
        "    predictions.append(predicted_text)\n",
        "    print(predicted_text)\n",
        "\n",
        "accuracy = accuracy_score(targets, predictions)\n",
        "precision, recall, f1_score, _ = precision_recall_fscore_support(targets, predictions, average='weighted')\n",
        "\n",
        "print(f\"Accuracy: {accuracy}\")\n",
        "print(f\"Precision: {precision}\")\n",
        "print(f\"Recall: {recall}\")\n",
        "print(f\"F1-score: {f1_score}\")"
      ],
      "metadata": {
        "id": "a4UI4Dde6O84"
      },
      "execution_count": null,
      "outputs": []
    }
  ]
}